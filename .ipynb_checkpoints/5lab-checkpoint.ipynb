{
 "cells": [
  {
   "cell_type": "markdown",
   "id": "f5241293",
   "metadata": {},
   "source": [
    "Напишите  программу,  используя минимум 5 функции для  работы  со списком. В виде списка пусть каждый студент предложитсвое резюме. И будет работать с этим списком."
   ]
  },
  {
   "cell_type": "code",
   "execution_count": 1,
   "id": "7c612c8a",
   "metadata": {},
   "outputs": [
    {
     "data": {
      "text/plain": [
       "['English',\n",
       " 'Communication skills',\n",
       " 'Computer skills',\n",
       " 'Leadership skills',\n",
       " 'Problem-solving skills',\n",
       " 'Mathematics',\n",
       " 'Data analysis']"
      ]
     },
     "execution_count": 1,
     "metadata": {},
     "output_type": "execute_result"
    }
   ],
   "source": [
    "resume = ['Communication skills', 'Computer skills', 'Problem-solving skills', 'bad skill']\n",
    "resume.append('Leadership skills')\n",
    "resume.remove('bad skill')\n",
    "resume.sort()\n",
    "desired_skills = ['Mathematics', 'Data analysis']\n",
    "resume.extend(desired_skills)\n",
    "resume.insert(0, 'English')\n",
    "resume\n"
   ]
  },
  {
   "cell_type": "markdown",
   "id": "92c6b90f",
   "metadata": {},
   "source": [
    "1. Напишите программу, в которой предлагается вводить учащихся различных групп, посещающих секции по разным предметам. Требуется упорядочить  список  по различным  категориям. Вывести  результат  на экран. "
   ]
  },
  {
   "cell_type": "code",
   "execution_count": 2,
   "id": "75e19063",
   "metadata": {},
   "outputs": [
    {
     "data": {
      "text/html": [
       "<div>\n",
       "<style scoped>\n",
       "    .dataframe tbody tr th:only-of-type {\n",
       "        vertical-align: middle;\n",
       "    }\n",
       "\n",
       "    .dataframe tbody tr th {\n",
       "        vertical-align: top;\n",
       "    }\n",
       "\n",
       "    .dataframe thead th {\n",
       "        text-align: right;\n",
       "    }\n",
       "</style>\n",
       "<table border=\"1\" class=\"dataframe\">\n",
       "  <thead>\n",
       "    <tr style=\"text-align: right;\">\n",
       "      <th></th>\n",
       "      <th>Mathematics</th>\n",
       "      <th>Physics</th>\n",
       "      <th>Algorithms</th>\n",
       "      <th>Programming</th>\n",
       "    </tr>\n",
       "  </thead>\n",
       "  <tbody>\n",
       "    <tr>\n",
       "      <th>0</th>\n",
       "      <td>Brittney</td>\n",
       "      <td>Jaclin</td>\n",
       "      <td>Joann</td>\n",
       "      <td>Carlynne</td>\n",
       "    </tr>\n",
       "    <tr>\n",
       "      <th>1</th>\n",
       "      <td>Carla</td>\n",
       "      <td>Legra</td>\n",
       "      <td>Maire</td>\n",
       "      <td>Crissie</td>\n",
       "    </tr>\n",
       "    <tr>\n",
       "      <th>2</th>\n",
       "      <td>Constantia</td>\n",
       "      <td>Manya</td>\n",
       "      <td>Perle</td>\n",
       "      <td>Maggie</td>\n",
       "    </tr>\n",
       "    <tr>\n",
       "      <th>3</th>\n",
       "      <td>Daniele</td>\n",
       "      <td>Guillema</td>\n",
       "      <td>Ernaline</td>\n",
       "      <td>Kirsteni</td>\n",
       "    </tr>\n",
       "    <tr>\n",
       "      <th>4</th>\n",
       "      <td>Debbie</td>\n",
       "      <td>Arleyne</td>\n",
       "      <td>Jolynn</td>\n",
       "      <td>Malina</td>\n",
       "    </tr>\n",
       "    <tr>\n",
       "      <th>5</th>\n",
       "      <td>Krista</td>\n",
       "      <td>Eirena</td>\n",
       "      <td>Avie</td>\n",
       "      <td>Dyane</td>\n",
       "    </tr>\n",
       "    <tr>\n",
       "      <th>6</th>\n",
       "      <td>Marja</td>\n",
       "      <td>Diann</td>\n",
       "      <td>Alicia</td>\n",
       "      <td>Reta</td>\n",
       "    </tr>\n",
       "    <tr>\n",
       "      <th>7</th>\n",
       "      <td>Netti</td>\n",
       "      <td>Aubry</td>\n",
       "      <td>Marice</td>\n",
       "      <td>Joyann</td>\n",
       "    </tr>\n",
       "    <tr>\n",
       "      <th>8</th>\n",
       "      <td>Philippa</td>\n",
       "      <td>Maxie</td>\n",
       "      <td>Leigha</td>\n",
       "      <td>Hedda</td>\n",
       "    </tr>\n",
       "    <tr>\n",
       "      <th>9</th>\n",
       "      <td>Prue</td>\n",
       "      <td>Alene</td>\n",
       "      <td>Grayce</td>\n",
       "      <td>Louise</td>\n",
       "    </tr>\n",
       "  </tbody>\n",
       "</table>\n",
       "</div>"
      ],
      "text/plain": [
       "  Mathematics   Physics Algorithms Programming\n",
       "0    Brittney    Jaclin      Joann    Carlynne\n",
       "1       Carla     Legra      Maire     Crissie\n",
       "2  Constantia     Manya      Perle      Maggie\n",
       "3     Daniele  Guillema   Ernaline    Kirsteni\n",
       "4      Debbie   Arleyne     Jolynn      Malina\n",
       "5      Krista    Eirena       Avie       Dyane\n",
       "6       Marja     Diann     Alicia        Reta\n",
       "7       Netti     Aubry     Marice      Joyann\n",
       "8    Philippa     Maxie     Leigha       Hedda\n",
       "9        Prue     Alene     Grayce      Louise"
      ]
     },
     "execution_count": 2,
     "metadata": {},
     "output_type": "execute_result"
    }
   ],
   "source": [
    "from random import sample\n",
    "import pandas as pd\n",
    "\n",
    "with open('names.txt') as file:\n",
    "    names = [i.strip() for i in file.readlines()]\n",
    "    \n",
    "disciplines = ['Mathematics', 'Physics', 'Algorithms', 'Programming']\n",
    "journal = {i: sample(names, 10) for i in disciplines}\n",
    "df = pd.DataFrame(journal)\n",
    "df = df.sort_values(disciplines, ignore_index=True)\n",
    "df"
   ]
  },
  {
   "cell_type": "markdown",
   "id": "7b325f2a",
   "metadata": {},
   "source": [
    "2. Напишите   программу которая   возвращает список. Заранее подготовьте  список  предметов  и  оценок  учащихся. Когда вы  вводите имя учащегося, то должны отображаться оценки этого учащегося."
   ]
  },
  {
   "cell_type": "code",
   "execution_count": 3,
   "id": "816cc30e",
   "metadata": {},
   "outputs": [
    {
     "data": {
      "text/html": [
       "<div>\n",
       "<style scoped>\n",
       "    .dataframe tbody tr th:only-of-type {\n",
       "        vertical-align: middle;\n",
       "    }\n",
       "\n",
       "    .dataframe tbody tr th {\n",
       "        vertical-align: top;\n",
       "    }\n",
       "\n",
       "    .dataframe thead th {\n",
       "        text-align: right;\n",
       "    }\n",
       "</style>\n",
       "<table border=\"1\" class=\"dataframe\">\n",
       "  <thead>\n",
       "    <tr style=\"text-align: right;\">\n",
       "      <th></th>\n",
       "      <th>Mathematics</th>\n",
       "      <th>Physics</th>\n",
       "      <th>Algorithms</th>\n",
       "      <th>Programming</th>\n",
       "    </tr>\n",
       "    <tr>\n",
       "      <th>Name</th>\n",
       "      <th></th>\n",
       "      <th></th>\n",
       "      <th></th>\n",
       "      <th></th>\n",
       "    </tr>\n",
       "  </thead>\n",
       "  <tbody>\n",
       "    <tr>\n",
       "      <th>Livy</th>\n",
       "      <td>36</td>\n",
       "      <td>3</td>\n",
       "      <td>24</td>\n",
       "      <td>58</td>\n",
       "    </tr>\n",
       "    <tr>\n",
       "      <th>Leta</th>\n",
       "      <td>23</td>\n",
       "      <td>3</td>\n",
       "      <td>75</td>\n",
       "      <td>8</td>\n",
       "    </tr>\n",
       "    <tr>\n",
       "      <th>Fanchette</th>\n",
       "      <td>88</td>\n",
       "      <td>0</td>\n",
       "      <td>34</td>\n",
       "      <td>22</td>\n",
       "    </tr>\n",
       "    <tr>\n",
       "      <th>Gloriane</th>\n",
       "      <td>87</td>\n",
       "      <td>82</td>\n",
       "      <td>69</td>\n",
       "      <td>18</td>\n",
       "    </tr>\n",
       "    <tr>\n",
       "      <th>Hilary</th>\n",
       "      <td>83</td>\n",
       "      <td>62</td>\n",
       "      <td>26</td>\n",
       "      <td>57</td>\n",
       "    </tr>\n",
       "    <tr>\n",
       "      <th>Kristal</th>\n",
       "      <td>16</td>\n",
       "      <td>28</td>\n",
       "      <td>95</td>\n",
       "      <td>44</td>\n",
       "    </tr>\n",
       "    <tr>\n",
       "      <th>Gnni</th>\n",
       "      <td>51</td>\n",
       "      <td>27</td>\n",
       "      <td>6</td>\n",
       "      <td>61</td>\n",
       "    </tr>\n",
       "    <tr>\n",
       "      <th>Cassondra</th>\n",
       "      <td>93</td>\n",
       "      <td>17</td>\n",
       "      <td>21</td>\n",
       "      <td>92</td>\n",
       "    </tr>\n",
       "    <tr>\n",
       "      <th>Leonora</th>\n",
       "      <td>88</td>\n",
       "      <td>86</td>\n",
       "      <td>48</td>\n",
       "      <td>96</td>\n",
       "    </tr>\n",
       "    <tr>\n",
       "      <th>Lexi</th>\n",
       "      <td>66</td>\n",
       "      <td>31</td>\n",
       "      <td>12</td>\n",
       "      <td>96</td>\n",
       "    </tr>\n",
       "    <tr>\n",
       "      <th>Liza</th>\n",
       "      <td>65</td>\n",
       "      <td>25</td>\n",
       "      <td>99</td>\n",
       "      <td>97</td>\n",
       "    </tr>\n",
       "    <tr>\n",
       "      <th>Catharine</th>\n",
       "      <td>96</td>\n",
       "      <td>96</td>\n",
       "      <td>99</td>\n",
       "      <td>84</td>\n",
       "    </tr>\n",
       "    <tr>\n",
       "      <th>Joellen</th>\n",
       "      <td>73</td>\n",
       "      <td>82</td>\n",
       "      <td>59</td>\n",
       "      <td>81</td>\n",
       "    </tr>\n",
       "    <tr>\n",
       "      <th>Junina</th>\n",
       "      <td>2</td>\n",
       "      <td>18</td>\n",
       "      <td>32</td>\n",
       "      <td>97</td>\n",
       "    </tr>\n",
       "    <tr>\n",
       "      <th>Cristionna</th>\n",
       "      <td>92</td>\n",
       "      <td>0</td>\n",
       "      <td>37</td>\n",
       "      <td>84</td>\n",
       "    </tr>\n",
       "    <tr>\n",
       "      <th>Merrie</th>\n",
       "      <td>49</td>\n",
       "      <td>85</td>\n",
       "      <td>90</td>\n",
       "      <td>56</td>\n",
       "    </tr>\n",
       "    <tr>\n",
       "      <th>Cherie</th>\n",
       "      <td>24</td>\n",
       "      <td>32</td>\n",
       "      <td>82</td>\n",
       "      <td>25</td>\n",
       "    </tr>\n",
       "    <tr>\n",
       "      <th>Raf</th>\n",
       "      <td>79</td>\n",
       "      <td>68</td>\n",
       "      <td>88</td>\n",
       "      <td>75</td>\n",
       "    </tr>\n",
       "    <tr>\n",
       "      <th>Cathrin</th>\n",
       "      <td>49</td>\n",
       "      <td>51</td>\n",
       "      <td>47</td>\n",
       "      <td>94</td>\n",
       "    </tr>\n",
       "    <tr>\n",
       "      <th>Kara</th>\n",
       "      <td>48</td>\n",
       "      <td>30</td>\n",
       "      <td>27</td>\n",
       "      <td>30</td>\n",
       "    </tr>\n",
       "  </tbody>\n",
       "</table>\n",
       "</div>"
      ],
      "text/plain": [
       "            Mathematics  Physics  Algorithms  Programming\n",
       "Name                                                     \n",
       "Livy                 36        3          24           58\n",
       "Leta                 23        3          75            8\n",
       "Fanchette            88        0          34           22\n",
       "Gloriane             87       82          69           18\n",
       "Hilary               83       62          26           57\n",
       "Kristal              16       28          95           44\n",
       "Gnni                 51       27           6           61\n",
       "Cassondra            93       17          21           92\n",
       "Leonora              88       86          48           96\n",
       "Lexi                 66       31          12           96\n",
       "Liza                 65       25          99           97\n",
       "Catharine            96       96          99           84\n",
       "Joellen              73       82          59           81\n",
       "Junina                2       18          32           97\n",
       "Cristionna           92        0          37           84\n",
       "Merrie               49       85          90           56\n",
       "Cherie               24       32          82           25\n",
       "Raf                  79       68          88           75\n",
       "Cathrin              49       51          47           94\n",
       "Kara                 48       30          27           30"
      ]
     },
     "execution_count": 3,
     "metadata": {},
     "output_type": "execute_result"
    }
   ],
   "source": [
    "from random import randint\n",
    "\n",
    "df = {discipline: [randint(0, 100) for _ in range(20)] for discipline in disciplines}\n",
    "df['Name'] = sample(names, 20)\n",
    "df = pd.DataFrame(df)\n",
    "df = df.set_index('Name')\n",
    "df"
   ]
  },
  {
   "cell_type": "code",
   "execution_count": 4,
   "id": "00a33674",
   "metadata": {},
   "outputs": [
    {
     "name": "stdout",
     "output_type": "stream",
     "text": [
      "Input discipline: Physics\n",
      "Input name: Raf\n",
      "His(Her) grade is 68\n"
     ]
    }
   ],
   "source": [
    "discipline = input('Input discipline: ')\n",
    "name = input('Input name: ')\n",
    "\n",
    "print(f'His(Her) grade is {df[discipline][name]}')"
   ]
  },
  {
   "cell_type": "code",
   "execution_count": 5,
   "id": "9b813edb",
   "metadata": {},
   "outputs": [
    {
     "name": "stdout",
     "output_type": "stream",
     "text": [
      "Input name: Raf\n"
     ]
    },
    {
     "data": {
      "text/html": [
       "<div>\n",
       "<style scoped>\n",
       "    .dataframe tbody tr th:only-of-type {\n",
       "        vertical-align: middle;\n",
       "    }\n",
       "\n",
       "    .dataframe tbody tr th {\n",
       "        vertical-align: top;\n",
       "    }\n",
       "\n",
       "    .dataframe thead th {\n",
       "        text-align: right;\n",
       "    }\n",
       "</style>\n",
       "<table border=\"1\" class=\"dataframe\">\n",
       "  <thead>\n",
       "    <tr style=\"text-align: right;\">\n",
       "      <th></th>\n",
       "      <th>Mathematics</th>\n",
       "      <th>Physics</th>\n",
       "      <th>Algorithms</th>\n",
       "      <th>Programming</th>\n",
       "    </tr>\n",
       "    <tr>\n",
       "      <th>Name</th>\n",
       "      <th></th>\n",
       "      <th></th>\n",
       "      <th></th>\n",
       "      <th></th>\n",
       "    </tr>\n",
       "  </thead>\n",
       "  <tbody>\n",
       "    <tr>\n",
       "      <th>Raf</th>\n",
       "      <td>79</td>\n",
       "      <td>68</td>\n",
       "      <td>88</td>\n",
       "      <td>75</td>\n",
       "    </tr>\n",
       "  </tbody>\n",
       "</table>\n",
       "</div>"
      ],
      "text/plain": [
       "      Mathematics  Physics  Algorithms  Programming\n",
       "Name                                               \n",
       "Raf            79       68          88           75"
      ]
     },
     "execution_count": 5,
     "metadata": {},
     "output_type": "execute_result"
    }
   ],
   "source": [
    "df.loc[[input('Input name: ')]]"
   ]
  },
  {
   "cell_type": "markdown",
   "id": "54a0843f",
   "metadata": {},
   "source": [
    "3. Напишите программу, которая будет запрашивать у пользователя целочисленные  значения  и сохранять  их  ввиде  списка.  Индикатором окончания  ввода  значений  должен  служить  ноль.  Затем  программа должна  вывести  на  экран  все  введенные  пользователем  числа  (кроме нуля)   в порядке   возрастания – по   одному   значению   в строке. Используйте для сортировки либо метод sort, либо функцию sorted."
   ]
  },
  {
   "cell_type": "code",
   "execution_count": 8,
   "id": "9b4e615c",
   "metadata": {},
   "outputs": [
    {
     "name": "stdout",
     "output_type": "stream",
     "text": [
      "Введи значение: 1\n",
      "Введи значение: 2\n",
      "Введи значение: 3\n",
      "Введи значение: abc\n",
      "Введено не целочисленное значение!\n",
      "Введи значение: 1.5\n",
      "Введено не целочисленное значение!\n",
      "Введи значение: 4\n",
      "Введи значение: 5\n",
      "Введи значение: 0\n",
      "[1, 2, 3, 4, 5]\n"
     ]
    }
   ],
   "source": [
    "res = []\n",
    "while True:\n",
    "    try:\n",
    "        value = int(input('Введи значение: '))\n",
    "    except ValueError:\n",
    "        print('Введено не целочисленное значение!')\n",
    "        continue\n",
    "    if value == 0:\n",
    "        print(sorted(res))\n",
    "        break\n",
    "    res.append(value)"
   ]
  },
  {
   "cell_type": "markdown",
   "id": "5f7687a3",
   "metadata": {},
   "source": [
    "4. Напишите  программу,  которая,  как  и в предыдущем  случае, будет запрашивать у пользователя целые числа и сохранять их в виде списка. Индикатором окончания ввода значений также должен служить ноль. На этот раз необходимо вывести на экран введенные значения впорядке убывания."
   ]
  },
  {
   "cell_type": "code",
   "execution_count": 10,
   "id": "073a727c",
   "metadata": {},
   "outputs": [
    {
     "name": "stdout",
     "output_type": "stream",
     "text": [
      "Введи значение: 1\n",
      "Введи значение: 2\n",
      "Введи значение: 3\n",
      "Введи значение: abc\n",
      "Введено не целочисленное значение!\n",
      "Введи значение: 4\n",
      "Введи значение: 5\n",
      "Введи значение: 0\n",
      "[5, 4, 3, 2, 1]\n"
     ]
    }
   ],
   "source": [
    "res = []\n",
    "while True:\n",
    "    try:\n",
    "        value = int(input('Введи значение: '))\n",
    "    except ValueError:\n",
    "        print('Введено не целочисленное значение!')\n",
    "        continue\n",
    "    if value == 0:\n",
    "        print(sorted(res, reverse=True))\n",
    "        break\n",
    "    res.append(value)"
   ]
  },
  {
   "cell_type": "markdown",
   "id": "f18b56ff",
   "metadata": {},
   "source": [
    "5. Для  выигрыша  главного  приза  необходимо,  чтобы  шесть номеров на лотерейном билете совпали с шестью числами, выпавшими случайным образом в диапазоне от 1 до 49 во время очередного тиража. Напишите  программу,  которая  будет  случайным  образом  подбирать шесть  номеров  для  вашего  билета.  Убедитесь  в том,  что  среди  этих чисел не  будет  дубликатов.  Выведите  номера  билетов  на  экран  по возрастанию."
   ]
  },
  {
   "cell_type": "code",
   "execution_count": 11,
   "id": "8f435774",
   "metadata": {},
   "outputs": [
    {
     "name": "stdout",
     "output_type": "stream",
     "text": [
      "Основной билет: [1, 7, 10, 14, 21, 48]\n",
      "Ваш билет: [20, 23, 27, 35, 41, 44]\n"
     ]
    }
   ],
   "source": [
    "ticket = sample(range(1, 50), 6)\n",
    "your_ticket = sample(range(1, 50), 6)\n",
    "print('Основной билет:', sorted(ticket))\n",
    "print('Ваш билет:', sorted(your_ticket))"
   ]
  },
  {
   "cell_type": "code",
   "execution_count": 12,
   "id": "3e2e3e22",
   "metadata": {},
   "outputs": [
    {
     "name": "stdout",
     "output_type": "stream",
     "text": [
      "Количетсво совпадений: 0\n"
     ]
    }
   ],
   "source": [
    "def check_identity(l1, l2):\n",
    "    return sorted(l1) == sorted(l2)\n",
    "\n",
    "counter = 0\n",
    "\n",
    "for _ in range(10_000_000):\n",
    "    ticket = sample(range(1, 50), 6)\n",
    "    your_ticket = sample(range(1, 50), 6)\n",
    "    if check_identity(ticket, your_ticket):\n",
    "        counter += 1\n",
    "print('Количетсво совпадений:', counter)"
   ]
  },
  {
   "cell_type": "code",
   "execution_count": 13,
   "id": "b56d63ae",
   "metadata": {},
   "outputs": [
    {
     "name": "stdout",
     "output_type": "stream",
     "text": [
      "Количетсво совпадений: 89\n"
     ]
    }
   ],
   "source": [
    "counter = 0\n",
    "\n",
    "for _ in range(10_000_000):\n",
    "    ticket = sample(range(1, 25), 6)\n",
    "    your_ticket = sample(range(1, 25), 6)\n",
    "    if check_identity(ticket, your_ticket):\n",
    "        counter += 1\n",
    "print('Количетсво совпадений:', counter)"
   ]
  },
  {
   "cell_type": "markdown",
   "id": "8ebaafb9",
   "metadata": {},
   "source": [
    "6. Напишите   функцию,   показывающую,   отсортирован   ли переданный  ей  в качестве  параметра  список  (по  возрастанию  или убыванию).   Функция   должна   возвращать   True,   если   список отсортирован,   и False   в противном   случае.   В основной   программе запросите  у пользователя  последовательность  чисел  для  списка,  после чего   выведите   сообщение   о том,   является   ли   этот   список отсортированным изначально."
   ]
  },
  {
   "cell_type": "code",
   "execution_count": 14,
   "id": "82db6b44",
   "metadata": {},
   "outputs": [
    {
     "name": "stdout",
     "output_type": "stream",
     "text": [
      "1 2 3 4 5\n",
      "True\n",
      "5 4 3 2 1\n",
      "True\n",
      "1 2 3 4 1\n",
      "False\n"
     ]
    }
   ],
   "source": [
    "def is_sorted(l: list) -> bool:\n",
    "    return l == sorted(l) or l == sorted(l, reverse=True)\n",
    "\n",
    "for _ in range(3):\n",
    "    print(is_sorted(list(map(int, input().split()))))"
   ]
  }
 ],
 "metadata": {
  "kernelspec": {
   "display_name": "Python 3 (ipykernel)",
   "language": "python",
   "name": "python3"
  },
  "language_info": {
   "codemirror_mode": {
    "name": "ipython",
    "version": 3
   },
   "file_extension": ".py",
   "mimetype": "text/x-python",
   "name": "python",
   "nbconvert_exporter": "python",
   "pygments_lexer": "ipython3",
   "version": "3.9.7"
  }
 },
 "nbformat": 4,
 "nbformat_minor": 5
}
