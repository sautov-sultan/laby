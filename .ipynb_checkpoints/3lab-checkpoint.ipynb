{
 "cells": [
  {
   "cell_type": "markdown",
   "id": "ae106eda",
   "metadata": {},
   "source": [
    "# Саутов Султан 3 курс Computer Science"
   ]
  },
  {
   "cell_type": "code",
   "execution_count": 2,
   "id": "b10462c9",
   "metadata": {},
   "outputs": [],
   "source": [
    "# 1 задание\n",
    "# Написать программу используя цикл for и while. \n",
    "\n",
    "def linear(li):\n",
    "    res = []\n",
    "    for elem in li:\n",
    "        if isinstance(elem, list):\n",
    "            res.extend(linear(elem))\n",
    "        else:\n",
    "            res.append(elem)\n",
    "    return res\n",
    "\n",
    "\n",
    "def binary_search(lst, item):\n",
    "    low = 0\n",
    "    high = len(lst) - 1\n",
    "    \n",
    "    while low <= high:\n",
    "        mid = (low + high) // 2\n",
    "        guess = lst[mid]\n",
    "        if guess == item:\n",
    "            return mid\n",
    "        if guess > item:\n",
    "            high = mid - 1\n",
    "        else:\n",
    "            low = mid + 1\n",
    "    return None"
   ]
  },
  {
   "cell_type": "code",
   "execution_count": 3,
   "id": "89ab648d",
   "metadata": {},
   "outputs": [
    {
     "data": {
      "text/plain": [
       "[1, 2, 3, 4, 1, 2, 3, 2, 3, 4, 3]"
      ]
     },
     "execution_count": 3,
     "metadata": {},
     "output_type": "execute_result"
    }
   ],
   "source": [
    "linear([[[[1,2,3,4], [1,2,3, [[[2,3,4]]]]], [3]]])"
   ]
  },
  {
   "cell_type": "code",
   "execution_count": 4,
   "id": "a6578372",
   "metadata": {},
   "outputs": [
    {
     "data": {
      "text/plain": [
       "1"
      ]
     },
     "execution_count": 4,
     "metadata": {},
     "output_type": "execute_result"
    }
   ],
   "source": [
    "binary_search([1,3,5,7,9], 3)"
   ]
  },
  {
   "cell_type": "code",
   "execution_count": 5,
   "id": "51c43b15",
   "metadata": {},
   "outputs": [
    {
     "data": {
      "text/plain": [
       "[0, 1, 2, 3, 4, 5, 6, 7, 8, 9]"
      ]
     },
     "execution_count": 5,
     "metadata": {},
     "output_type": "execute_result"
    }
   ],
   "source": [
    "# используя функцию range() сделать список. \n",
    "#в функцию range() введите данные с\n",
    "#разными типами и выведите на экран в разных примерах.\n",
    "\n",
    "[i for i in range(10)]"
   ]
  },
  {
   "cell_type": "code",
   "execution_count": 6,
   "id": "f3612496",
   "metadata": {},
   "outputs": [],
   "source": [
    "# Используйте функции randint() randrange() random() enumerate()  в своей программе\n",
    "\n",
    "from random import randint, randrange, random, choice\n",
    "from string import ascii_lowercase\n",
    "\n",
    "def gen_psw() -> str:\n",
    "    random_dig = random()\n",
    "    if random_dig <= 0.5:\n",
    "        return ''.join([choice(ascii_lowercase) for _ in range(randrange(4, 8))])\n",
    "    return ''.join([choice(ascii_lowercase) for _ in range(randrange(9, 16))])\n",
    "    "
   ]
  },
  {
   "cell_type": "code",
   "execution_count": 7,
   "id": "19562b5a",
   "metadata": {},
   "outputs": [
    {
     "data": {
      "text/plain": [
       "'lhffubtspl'"
      ]
     },
     "execution_count": 7,
     "metadata": {},
     "output_type": "execute_result"
    }
   ],
   "source": [
    "gen_psw() # повезло"
   ]
  },
  {
   "cell_type": "code",
   "execution_count": 8,
   "id": "631d6251",
   "metadata": {},
   "outputs": [
    {
     "name": "stdout",
     "output_type": "stream",
     "text": [
      "1 10\n",
      "1 2 3 4 5 6 7 8 9 10\n"
     ]
    }
   ],
   "source": [
    "# 1. Даны два целых числа A и B (при этом A ≤ B). Выведите все числа от A до B включительно.\n",
    "\n",
    "a, b = map(int, input().split())\n",
    "print(*[i for i in range(a, b + 1)])"
   ]
  },
  {
   "cell_type": "code",
   "execution_count": 9,
   "id": "459ed477",
   "metadata": {},
   "outputs": [
    {
     "name": "stdout",
     "output_type": "stream",
     "text": [
      "10 1\n",
      "[10, 9, 8, 7, 6, 5, 4, 3, 2, 1]\n"
     ]
    }
   ],
   "source": [
    "#2. Даны два целых числа A и В. \n",
    "#Выведите все числа от A до B включительно, в порядке возрастания, \n",
    "#если A < B, или в порядке убывания в противном случае. \n",
    "\n",
    "a, b = map(int, input().split())\n",
    "print([i for i in range(a, b + 1)] if a < b else [i for i in range(a, b - 1, -1)])"
   ]
  },
  {
   "cell_type": "code",
   "execution_count": 10,
   "id": "34bd3503",
   "metadata": {},
   "outputs": [
    {
     "name": "stdout",
     "output_type": "stream",
     "text": [
      "21 9\n",
      "[21, 19, 17, 15, 13, 11, 9]\n"
     ]
    }
   ],
   "source": [
    "#3. Даны два целых числа A и В, A>B. Выведите все нечётные числа \n",
    "#от A до B включительно, в порядке убывания. В этой задаче можно обойтись без инструкции if. \n",
    "\n",
    "a, b = map(int, input().split())\n",
    "print([i for i in range(a, b - 1, -1) if i % 2])"
   ]
  },
  {
   "cell_type": "code",
   "execution_count": 11,
   "id": "f91bbbf1",
   "metadata": {},
   "outputs": [
    {
     "name": "stdout",
     "output_type": "stream",
     "text": [
      "всего карт было: 5\n",
      "оствашаяся карта: -> 4\n",
      "оствашаяся карта: -> 5\n",
      "оствашаяся карта: -> 1\n",
      "оствашаяся карта: -> 2\n",
      "потерянной картой была: 3\n"
     ]
    }
   ],
   "source": [
    "#4. Для настольной игры используются карточки с номерами от 1 до N. Одна карточка потерялась. \n",
    "#Найдите ее, зная номера оставшихся карточек. \n",
    "#Дано число N, далее N − 1 номер оставшихся карточек (различные числа от 1 до N). \n",
    "#Программа должна вывести номер потерянной карточки. \n",
    "#Для самых умных: массивами и аналогичными структурами данных пользоваться нельзя. \n",
    "\n",
    "\n",
    "n = int(input('всего карт было: '))\n",
    "sum1 = n\n",
    "sum2 = 0\n",
    "for i in range(1, n):\n",
    "    sum1 += i\n",
    "    sum2 += int(input('оствашаяся карта: -> '))\n",
    "print(f'потерянной картой была: {sum1 - sum2}')"
   ]
  }
 ],
 "metadata": {
  "kernelspec": {
   "display_name": "Python 3 (ipykernel)",
   "language": "python",
   "name": "python3"
  },
  "language_info": {
   "codemirror_mode": {
    "name": "ipython",
    "version": 3
   },
   "file_extension": ".py",
   "mimetype": "text/x-python",
   "name": "python",
   "nbconvert_exporter": "python",
   "pygments_lexer": "ipython3",
   "version": "3.9.7"
  }
 },
 "nbformat": 4,
 "nbformat_minor": 5
}
