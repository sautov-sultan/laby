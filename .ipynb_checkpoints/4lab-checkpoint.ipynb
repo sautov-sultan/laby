{
 "cells": [
  {
   "cell_type": "markdown",
   "id": "1d3efd5c",
   "metadata": {},
   "source": [
    "# Лабораторная работа №4"
   ]
  },
  {
   "cell_type": "markdown",
   "id": "8cd94b64",
   "metadata": {},
   "source": [
    "#### Напишите программу, используя 10 функции и методы, связанные со строками "
   ]
  },
  {
   "cell_type": "code",
   "execution_count": 44,
   "id": "fe72a791",
   "metadata": {},
   "outputs": [],
   "source": [
    "def check_number(phone_number: str) -> bool:\n",
    "    \"\"\" Функция проверяет правильно ли введен номер\n",
    "        применяются методы:\n",
    "        isdigit(), len(), startswith(), \n",
    "        isalpha(), join(), split(), \n",
    "        isinstance(), strip(), replace(), indexes\n",
    "    \"\"\"\n",
    "    if not isinstance(phone_number, str):\n",
    "        print('Введена не строка!')\n",
    "        return False\n",
    "    \n",
    "    if phone_number[0] == '8':\n",
    "        phone_number = phone_number.replace('8', '+7', 1)\n",
    "        \n",
    "    \n",
    "    phone_number = ''.join(phone_number.strip().split())\n",
    "    \n",
    "    if (len(phone_number[1:]) != 11 and \\\n",
    "            not phone_number[1:].isdigit() \\\n",
    "            and not phone_number.startswith('+')) \\\n",
    "            or phone_number[1:].isalpha():\n",
    "        print('Телефон введен неправильно!')\n",
    "        return False\n",
    "    print('Телефон введен верно!')\n",
    "    return True"
   ]
  },
  {
   "cell_type": "code",
   "execution_count": 45,
   "id": "45341eb4",
   "metadata": {},
   "outputs": [
    {
     "name": "stdout",
     "output_type": "stream",
     "text": [
      "Телефон введен верно!\n",
      "True\n",
      "Телефон введен верно!\n",
      "True\n",
      "Телефон введен неправильно!\n",
      "False\n"
     ]
    }
   ],
   "source": [
    "print(check_number('87772534804'))\n",
    "print(check_number('+77772534804'))\n",
    "print(check_number('abcdef'))"
   ]
  },
  {
   "cell_type": "markdown",
   "id": "72883d4f",
   "metadata": {},
   "source": [
    "#### Напишите программу, в которой предлагается вводить учащихся различных груп, посещающих секции по программированию. Требуется упорядочить список по возрастанию классов. Распечатать список фамилий и классов.  "
   ]
  },
  {
   "cell_type": "code",
   "execution_count": 53,
   "id": "d00c1036",
   "metadata": {},
   "outputs": [
    {
     "name": "stdout",
     "output_type": "stream",
     "text": [
      "Количество классов: 2\n",
      "HTML\n",
      "CSS\n",
      "Количество студентов в классе:3\n",
      "Max 15\n",
      "Dima 12\n",
      "Alexey 13\n",
      "Количество студентов в классе:2\n",
      "Dominic 33\n",
      "Andrey 42\n",
      "HTML:\n",
      "name = Dima, age = 12\n",
      " name = Alexey, age = 13\n",
      " name = Max, age = 15\n",
      "\n",
      "CSS:\n",
      "name = Dominic, age = 33\n",
      " name = Andrey, age = 42\n",
      "\n"
     ]
    }
   ],
   "source": [
    "classes = [input() for _ in range(int(input('Количество классов: ')))]\n",
    "students = {k: [input().split() for _ in range(int(input('Количество студентов в классе:')))] \n",
    "            for k in classes}\n",
    "for itclass, ss in students.items():\n",
    "    print(f'{itclass}:')\n",
    "    print(*map(lambda x: f'name = {x[0]}, age = {x[1]}\\n', sorted(ss, key=lambda person: int(person[1]))))"
   ]
  },
  {
   "cell_type": "markdown",
   "id": "566a497e",
   "metadata": {},
   "source": [
    "#### Вводится строка, включающая строчные и прописные буквы. Требуется вывести ту же строку в одном регистре, который зависит от того, каких букв больше. При равном количестве преобразовать в нижний регистр. Например, вводится строка \"HeLLo World\", она должна быть преобразована в \"hello world\", потому что в исходной строке малых букв больше. Необходимо свой пример привести. В коде используйте цикл for, строковые методы upper() (преобразова\tние к верхнему регистру) и lower() (преобразование к нижнему регистру), а также методы isupper() и islower(), проверяющие регистр строки или символа. "
   ]
  },
  {
   "cell_type": "code",
   "execution_count": 2,
   "id": "aaa25498",
   "metadata": {},
   "outputs": [
    {
     "name": "stdout",
     "output_type": "stream",
     "text": [
      "MicROSOFT\n",
      "MICROSOFT\n"
     ]
    }
   ],
   "source": [
    "from string import ascii_lowercase as al, ascii_uppercase as au\n",
    "\n",
    "string, upper, lower = input(), 0, 0\n",
    "\n",
    "for i in string:\n",
    "    if i.isupper():\n",
    "        upper += 1\n",
    "    else:\n",
    "        lower += 1\n",
    "\n",
    "if upper > lower:\n",
    "    print(string.upper())\n",
    "else:\n",
    "    print(string.lower())"
   ]
  },
  {
   "cell_type": "markdown",
   "id": "0af18bbb",
   "metadata": {},
   "source": [
    "#### Строковый метод isdigit() проверяет, состоит ли строка только из цифр. Напишите программу, которая запрашивает с ввода два целых числа и выводит их сумму. В случае некорректного ввода программа не должна завершаться с ошибкой, а должна продолжать запрашивать числа. Обработчик исключений try-except использовать нельзя. "
   ]
  },
  {
   "cell_type": "code",
   "execution_count": 2,
   "id": "ba0b9423",
   "metadata": {},
   "outputs": [
    {
     "name": "stdout",
     "output_type": "stream",
     "text": [
      "1a s2\n",
      "ds 12\n",
      "12 21\n",
      "33\n"
     ]
    }
   ],
   "source": [
    "while True:\n",
    "    a, b = input().split()\n",
    "    if a.isdigit() and b.isdigit():\n",
    "        print(sum(map(int, [a, b])))\n",
    "        break\n",
    "    else:\n",
    "        continue"
   ]
  }
 ],
 "metadata": {
  "kernelspec": {
   "display_name": "Python 3 (ipykernel)",
   "language": "python",
   "name": "python3"
  },
  "language_info": {
   "codemirror_mode": {
    "name": "ipython",
    "version": 3
   },
   "file_extension": ".py",
   "mimetype": "text/x-python",
   "name": "python",
   "nbconvert_exporter": "python",
   "pygments_lexer": "ipython3",
   "version": "3.9.7"
  }
 },
 "nbformat": 4,
 "nbformat_minor": 5
}
