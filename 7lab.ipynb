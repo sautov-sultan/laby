{
 "cells": [
  {
   "cell_type": "markdown",
   "id": "834aa4d9",
   "metadata": {},
   "source": [
    "### Напишите программу, используя минимум по 5 функции для работы со словарем(dict). В виде данных пусть каждый студент предложит свое резюме. И будет работа ть с этими данными."
   ]
  },
  {
   "cell_type": "code",
   "execution_count": 18,
   "id": "8269904c",
   "metadata": {},
   "outputs": [
    {
     "name": "stdout",
     "output_type": "stream",
     "text": [
      "Added 1 skill --> Confidence, Confidence, Presentation skills, Empathy\n",
      "Deleted skill that I added before -> Confidence, Confidence, Presentation skills\n",
      "Number of skills --> 3\n",
      "New resume --> {'4 skill': 'Non-verbal communication', '5 skill': 'Verbal communication', '6 skill': 'Active listening'}\n",
      "Merge of 2 resumes --> {'1 skill': 'Confidence', '2 skill': 'Confidence', '3 skill': 'Presentation skills', '4 skill': 'Non-verbal communication', '5 skill': 'Verbal communication', '6 skill': 'Active listening'}\n"
     ]
    }
   ],
   "source": [
    "resume = {'1 skill': 'Confidence', '2 skill': 'Confidence', '3 skill': 'Presentation skills'}\n",
    "resume['4 skill'] = 'Empathy'\n",
    "print(f'Added 1 skill --> {\", \".join(resume.values())}')\n",
    "resume.pop('4 skill')\n",
    "print(f'Deleted skill that I added before -> {\", \".join(resume.values())}')\n",
    "print(f'Number of skills --> {len(resume)}')\n",
    "keys_ = ('4 skill', '5 skill', '6 skill')\n",
    "values_ = ('Non-verbal communication', 'Verbal communication', 'Active listening')\n",
    "resume2 = dict(zip(keys_, values_))\n",
    "print(f'New resume --> {resume2}')\n",
    "resume.update(resume2)\n",
    "print(f'Merge of 2 resumes --> {resume}')"
   ]
  },
  {
   "cell_type": "markdown",
   "id": "6c977f14",
   "metadata": {},
   "source": [
    "### В первой строке содержит с число N — число элементов в словаре.  Дан список  (словарь)  странирек,  протекающих в каждой стране.  Затем даны названия рек(в виде списка).Выполните задания:\n",
    "1) Для каждой реки укажите, в какой стране она протекает.\n",
    "2) Проверьте, есть ли введенное название реки в словаре (вывести есть или нет)"
   ]
  },
  {
   "cell_type": "code",
   "execution_count": 2,
   "id": "ae3998dc",
   "metadata": {},
   "outputs": [
    {
     "name": "stdout",
     "output_type": "stream",
     "text": [
      "4\n",
      "Kazakhstan Tobol\n",
      "Russia Niva\n",
      "USA Mississippi_river\n",
      "Afghanistan Kabul_River\n",
      "{'Kazakhstan': 'Tobol', 'Russia': 'Niva', 'USA': 'Mississippi_river', 'Afghanistan': 'Kabul_River'}\n"
     ]
    }
   ],
   "source": [
    "n = int(input())\n",
    "country_river = {country: river for country, river in [input().split() for _ in range(n)]}\n",
    "print(country_river)"
   ]
  },
  {
   "cell_type": "code",
   "execution_count": 4,
   "id": "f15f4465",
   "metadata": {},
   "outputs": [
    {
     "name": "stdout",
     "output_type": "stream",
     "text": [
      "Niva\n",
      "DA\n"
     ]
    }
   ],
   "source": [
    "if input() in country_river.values():\n",
    "    print('DA')\n",
    "else:\n",
    "    print('Net')"
   ]
  },
  {
   "cell_type": "code",
   "execution_count": 6,
   "id": "61981b5d",
   "metadata": {},
   "outputs": [
    {
     "name": "stdout",
     "output_type": "stream",
     "text": [
      "{'Kazakhstan': 'Tobol', 'Russia': 'Niva', 'USA': 'Mississippi_river', 'Afghanistan': 'Kabul_River', 'France': 'Meuse'}\n"
     ]
    }
   ],
   "source": [
    "country_river['France'] = 'Meuse'\n",
    "print(country_river)"
   ]
  },
  {
   "cell_type": "markdown",
   "id": "09c3f4e1",
   "metadata": {},
   "source": [
    "### Добавьте новую пару страна-река в словарь.2.В аккаунте социальной сети одного звезды прокомментировали фотографию. Некоторые посетители оставляли несколько комментариев. Требуется по списку комментарие в определить уникальное число комментаторов. Комментарии поступают на вход программы в формате: имя 1: комментарий \n",
    "1 имя 2: комментарий\n",
    "2...имя N: комментарий N\n",
    "пока не будет ведена пустая строка. Также полагается, что имена у разных комментаторов не совпадают. Вывести на экран общее число уникальных комментаторов. "
   ]
  },
  {
   "cell_type": "code",
   "execution_count": 11,
   "id": "acae504f",
   "metadata": {},
   "outputs": [
    {
     "name": "stdout",
     "output_type": "stream",
     "text": [
      "Max: very good\n",
      "Inga: pretty bad\n",
      "Andrey: looks good\n",
      "Sasha: i like it\n",
      " \n",
      "{'Max': 'very good', 'Inga': 'pretty bad', 'Andrey': 'looks good', 'Sasha': 'i like it'}\n"
     ]
    }
   ],
   "source": [
    "reviews = {}\n",
    "while True:\n",
    "    try:\n",
    "        name, comment = input().split(': ')\n",
    "    except:\n",
    "        print(reviews)\n",
    "        break\n",
    "    reviews[name] = comment\n",
    "    "
   ]
  },
  {
   "cell_type": "code",
   "execution_count": 12,
   "id": "b1f62834",
   "metadata": {},
   "outputs": [
    {
     "name": "stdout",
     "output_type": "stream",
     "text": [
      "4\n"
     ]
    }
   ],
   "source": [
    "print(len(reviews))"
   ]
  },
  {
   "cell_type": "markdown",
   "id": "f6bebdf3",
   "metadata": {},
   "source": [
    "### Напишите программу, которая поможет находить номера телефонов по имени. В первой строке задано одно целое число-количество номеров телефонов. В следующих строках заданы телефоны и имена и х владельцев через пробел. В следующей строке записан запрос — это имя, чей телефон нужно найти. Вывести номер телефона согласно запросу. Если в телефонной книге нет телефонов человека с таким именем, выведите в соответствующей строке «Нет в телефонной книге». "
   ]
  },
  {
   "cell_type": "code",
   "execution_count": 14,
   "id": "bf2811ad",
   "metadata": {},
   "outputs": [
    {
     "name": "stdout",
     "output_type": "stream",
     "text": [
      "4\n",
      "Max +77725348045\n",
      "Natasha 652896\n",
      "Abylai 87777677512\n",
      "Kanat +99962251\n"
     ]
    }
   ],
   "source": [
    "numbers_base = {name: phone_number for name, phone_number in [input().split() for _ in range(int(input()))]}"
   ]
  },
  {
   "cell_type": "code",
   "execution_count": 16,
   "id": "6b86dc65",
   "metadata": {},
   "outputs": [
    {
     "name": "stdout",
     "output_type": "stream",
     "text": [
      "Max\n",
      "+77725348045\n",
      "Gosha\n"
     ]
    },
    {
     "data": {
      "text/plain": [
       "'Нет в телефонной книге'"
      ]
     },
     "execution_count": 16,
     "metadata": {},
     "output_type": "execute_result"
    }
   ],
   "source": [
    "print(numbers_base[input()])\n",
    "numbers_base.get(input(), 'Нет в телефонной книге')"
   ]
  },
  {
   "cell_type": "markdown",
   "id": "e03e7253",
   "metadata": {},
   "source": [
    "### Составьте словарь «График отпусков» для специалиста отдела кадров.По известному графику отпусков научитесь определять, у кого отпуск в заданном месяце.В первой строчке записано целое число–количество сотрудников. В следующих N строчках записана информация о дате их отпуска. Каждая строчка состоит из трёх частей, разделённых пробелом–фамилии сотрудника, дня и месяца его отпуска. В следующей строке записан запрос—это название месяца. Выведите через пробел фамилии всех сотрудников, у которых отпуск в указанном месяце. Если в заданном месяце никто не идет в отпуск, оставьте строку ответа пустой. "
   ]
  },
  {
   "cell_type": "code",
   "execution_count": 18,
   "id": "0dea2c0a",
   "metadata": {},
   "outputs": [
    {
     "name": "stdout",
     "output_type": "stream",
     "text": [
      "4\n",
      "Max January 12\n",
      "Andrey March 12\n",
      "Natasha April 22\n",
      "Sultan January 29\n",
      "January\n",
      "['Max', 'Sultan']\n"
     ]
    }
   ],
   "source": [
    "vacation_base = {}\n",
    "for _ in range(int(input())):\n",
    "    name, month, day = input().split()\n",
    "    vacation_base.setdefault(month, []).append(name)\n",
    "print(vacation_base.get(input(), ' '))"
   ]
  }
 ],
 "metadata": {
  "kernelspec": {
   "display_name": "Python 3 (ipykernel)",
   "language": "python",
   "name": "python3"
  },
  "language_info": {
   "codemirror_mode": {
    "name": "ipython",
    "version": 3
   },
   "file_extension": ".py",
   "mimetype": "text/x-python",
   "name": "python",
   "nbconvert_exporter": "python",
   "pygments_lexer": "ipython3",
   "version": "3.9.7"
  }
 },
 "nbformat": 4,
 "nbformat_minor": 5
}
