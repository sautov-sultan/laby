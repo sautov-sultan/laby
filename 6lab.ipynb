{
 "cells": [
  {
   "cell_type": "markdown",
   "id": "b2d7b4bf",
   "metadata": {},
   "source": [
    "### Саутов Султан\n",
    "\n",
    "7 Лабораторная работа"
   ]
  },
  {
   "cell_type": "markdown",
   "id": "5eb0278c",
   "metadata": {},
   "source": [
    "##### Напишите программу, используя минимум по 5 функц и для работы с кортежем (tuple) и множествами (Set) . В виде данных пусть каждый студент предложит свое резюме. И будет работать с этими данными."
   ]
  },
  {
   "cell_type": "code",
   "execution_count": 1,
   "id": "f6632337",
   "metadata": {},
   "outputs": [
    {
     "name": "stdout",
     "output_type": "stream",
     "text": [
      "{'Effective communication', 'Time management'}\n",
      "{'Teamwork skills', 'Stress management', 'Conflict management'}\n",
      "{'Time management', 'Conflict management', 'Effective communication', 'Teamwork skills', 'Stress management'}\n",
      "{'Conflict management', 'Teamwork skills', 'Stress management'}\n",
      "{'Time management', 'Conflict management', 'Effective communication', 'Teamwork skills', 'Stress management'}\n"
     ]
    }
   ],
   "source": [
    "resume_2022 = ('Effective communication', 'Time management')\n",
    "resume_2023 = ('Teamwork skills', 'Stress management', 'Conflict management', 'Effective communication', 'Time management')\n",
    "print(set(resume_2022) & set(resume_2023)) # Общие скиллы\n",
    "print(set(resume_2023) - set(resume_2022)) # Какие скиллы появились через год\n",
    "print(set(resume_2022) | set(resume_2023)) # Какие скиллы имеются в общем\n",
    "print(set(resume_2022) ^ set(resume_2023)) # Какие скиллы появились только в 2023 году\n",
    "resume_2024 = set() | set(resume_2022) | set(resume_2023) # Перенес все скиллы в 2024 год\n",
    "print(resume_2024)"
   ]
  },
  {
   "cell_type": "markdown",
   "id": "bfd908c8",
   "metadata": {},
   "source": [
    "Заполните один кортеж десятью случайными целыми числами от  0 до 5 включительно. Также заполните второй кортеж числами от -5 до 0. Для заполнения кортежей числами напишите одну функцию. Объедините два кортежа с помощью оператора +, создав тем самым третий кортеж. С помощью метода кортежа count() определите в нем количество нулей. Выведите на экран третий кортеж и количество нулей в нем."
   ]
  },
  {
   "cell_type": "code",
   "execution_count": 3,
   "id": "31e0fdf1",
   "metadata": {},
   "outputs": [
    {
     "name": "stdout",
     "output_type": "stream",
     "text": [
      "(5, 5, 3, 0, 3, 0, 4, 5, 3, 1)\n",
      "(-3, -3, -5, -5, -4, -3, -5, -3, -3, -3)\n",
      "(5, 5, 3, 0, 3, 0, 4, 5, 3, 1, -3, -3, -5, -5, -4, -3, -5, -3, -3, -3)\n",
      "2\n"
     ]
    }
   ],
   "source": [
    "from random import randint\n",
    "\n",
    "def fill_tuple(x, z):\n",
    "    tpl = tuple([randint(x, z) for _ in range(10)])\n",
    "    return tpl\n",
    "\n",
    "a = fill_tuple(0, 5)\n",
    "b = fill_tuple(-5, 0)\n",
    "c = a + b\n",
    "print(a)\n",
    "print(b)\n",
    "print(c)\n",
    "print(c.count(0))"
   ]
  },
  {
   "cell_type": "markdown",
   "id": "cdc1ae9f",
   "metadata": {},
   "source": [
    "Создайте кортеж-матрешку, в который поместите два элемента: целое число и вложенный кортеж, в который поместите еще два элемента: вещественное число и вложенный кортеж, в который поместите еще два элемента: комплексное число и вложенный кортеж, в который поместите еще два элемента: строку и пустой кортеж. Выведите на экран конечную строку."
   ]
  },
  {
   "cell_type": "code",
   "execution_count": 4,
   "id": "1c87d28f",
   "metadata": {},
   "outputs": [
    {
     "data": {
      "text/plain": [
       "(1, (1.0, ((1+0j), ('1', ()))))"
      ]
     },
     "execution_count": 4,
     "metadata": {},
     "output_type": "execute_result"
    }
   ],
   "source": [
    "(1, (1.0, (complex(1), ('1', tuple()))))"
   ]
  },
  {
   "cell_type": "markdown",
   "id": "471633fb",
   "metadata": {},
   "source": [
    "Общий объем расходов. Разработайте программу, которая подсчитает ваши расходы за каждый день недели.Расходы по следующим категориям(транспортные расходы, обед, и т.д.)Суммы должны быть сохранены в списке. Примените цикл, чтобы вычислить общий объем расходов за неделю и показать результат. "
   ]
  },
  {
   "cell_type": "code",
   "execution_count": 5,
   "id": "6a5b4cb5",
   "metadata": {},
   "outputs": [
    {
     "name": "stdout",
     "output_type": "stream",
     "text": [
      "продукты_домой 3000\n",
      "еда 4000\n",
      "вода 500\n",
      "жвачка 300\n",
      "автобус 160\n",
      "кофе 600\n",
      "!\n",
      "{'продукты_домой': 3000.0, 'еда': 4000.0, 'вода': 500.0, 'жвачка': 300.0, 'автобус': 160.0, 'кофе': 600.0}\n"
     ]
    }
   ],
   "source": [
    "expenses = {}\n",
    "while True:\n",
    "    ans = input().split()\n",
    "    if ans[0].lower() == '!': break;\n",
    "    expenses[ans[0]] = float(ans[1])\n",
    "\n",
    "print(expenses)"
   ]
  },
  {
   "cell_type": "code",
   "execution_count": 6,
   "id": "3c014e7a",
   "metadata": {},
   "outputs": [
    {
     "data": {
      "text/plain": [
       "8560.0"
      ]
     },
     "execution_count": 6,
     "metadata": {},
     "output_type": "execute_result"
    }
   ],
   "source": [
    "expenses_list = expenses.values()\n",
    "summa = 0\n",
    "for i in expenses_list:\n",
    "    summa += i\n",
    "summa"
   ]
  },
  {
   "cell_type": "markdown",
   "id": "c05cb9a7",
   "metadata": {},
   "source": [
    "Вводятся имена студентов в одну строчку через пробел. На их основе формируется кортеж. Отобразите на экране все имена из этого кортежа, которые содержат фрагмент \"ва\". Имена выводятся в одну строку через пробел."
   ]
  },
  {
   "cell_type": "code",
   "execution_count": 7,
   "id": "c4ad4d83",
   "metadata": {},
   "outputs": [
    {
     "name": "stdout",
     "output_type": "stream",
     "text": [
      "Варвара Коля Саша Дима Айбек Султан Вова\n",
      "имена с \"ва\":  Варвара Вова\n"
     ]
    }
   ],
   "source": [
    "names = tuple(filter(lambda x: 'ва' in x, input().split()))\n",
    "print('имена с \"ва\": ', ' '.join(names))"
   ]
  },
  {
   "cell_type": "markdown",
   "id": "72fa9100",
   "metadata": {},
   "source": [
    "Напишите программу, которая любой введенный казахский текст из кириллицы переводит в латиницу."
   ]
  },
  {
   "cell_type": "code",
   "execution_count": 8,
   "id": "51763a28",
   "metadata": {},
   "outputs": [
    {
     "name": "stdout",
     "output_type": "stream",
     "text": [
      "sälem dos, qalaisyn?\n"
     ]
    }
   ],
   "source": [
    "cyrilic_latin = {'а': 'a',\n",
    "                'ә': 'ä',\n",
    "                'е': 'e',\n",
    "                'с': 's',\n",
    "                'л': 'l',\n",
    "                'м': 'm',\n",
    "                'о': 'o',\n",
    "                'д': 'd',\n",
    "                'қ': 'q',\n",
    "                'й': 'i',\n",
    "                'ы': 'y',\n",
    "                'н': 'n'}\n",
    "\n",
    "sentence = 'сәлем дос, қалайсын?'\n",
    "res = ''\n",
    "for i in sentence:\n",
    "    for j in cyrilic_latin.items():\n",
    "        if i == j[0]:\n",
    "            res += j[1]\n",
    "            break\n",
    "    else:\n",
    "        res += i\n",
    "print(res)"
   ]
  }
 ],
 "metadata": {
  "kernelspec": {
   "display_name": "Python 3 (ipykernel)",
   "language": "python",
   "name": "python3"
  },
  "language_info": {
   "codemirror_mode": {
    "name": "ipython",
    "version": 3
   },
   "file_extension": ".py",
   "mimetype": "text/x-python",
   "name": "python",
   "nbconvert_exporter": "python",
   "pygments_lexer": "ipython3",
   "version": "3.9.7"
  }
 },
 "nbformat": 4,
 "nbformat_minor": 5
}
